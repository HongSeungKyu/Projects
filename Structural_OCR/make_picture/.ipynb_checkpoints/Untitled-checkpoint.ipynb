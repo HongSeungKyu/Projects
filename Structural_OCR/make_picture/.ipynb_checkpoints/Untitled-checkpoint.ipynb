{
 "cells": [
  {
   "cell_type": "code",
   "execution_count": 1,
   "id": "96f844c0",
   "metadata": {},
   "outputs": [
    {
     "name": "stderr",
     "output_type": "stream",
     "text": [
      "/Users/jeong-wonlyeol/Desktop/캡스톤/received/make_picture/mrcnn/model.py:2370: SyntaxWarning: \"is\" with a literal. Did you mean \"==\"?\n",
      "  if os.name is 'nt':\n",
      "Using TensorFlow backend.\n"
     ]
    }
   ],
   "source": [
    "import mrcnn\n",
    "import mrcnn.config\n",
    "import mrcnn.model as MD\n",
    "import mrcnn.visualize\n",
    "import cv2\n",
    "import os\n",
    "\n",
    "def merge_boxes(results_rois,results_masks):\n",
    "    line = len(results_rois)\n",
    "    boxes = list()\n",
    "    for box in results_rois:\n",
    "        ymin = box[0]\n",
    "        xmin = box[1]\n",
    "        ymax = box[2]\n",
    "        xmax = box[3]\n",
    "\n",
    "        coors = [[xmin, ymin],[xmax,ymin], [xmax, ymax],[xmin,ymax]]\n",
    "\n",
    "        boxes.append(coors)\n",
    "\n",
    "    size = list(results_masks.shape[:2])\n",
    "    size.append(3)\n",
    "\n",
    "    stencil1 = numpy.zeros(size).astype(np.dtype(\"uint8\"))\n",
    "    stencil2= numpy.zeros(size).astype(np.dtype(\"uint8\"))\n",
    "\n",
    "    color = [255, 255, 255]\n",
    "\n",
    "    for i in range(len(boxes)):\n",
    "        stencil1 = numpy.zeros(size).astype(np.dtype(\"uint8\"))\n",
    "\n",
    "        contours = [numpy.array(boxes[i])]\n",
    "        cv2.fillPoly(stencil1, contours, color)\n",
    "\n",
    "\n",
    "        for j in range(i+1,len(boxes)):\n",
    "            stencil2= numpy.zeros(size).astype(np.dtype(\"uint8\"))\n",
    "            contours = [numpy.array(boxes[j])]\n",
    "            cv2.fillPoly(stencil2, contours, color)\n",
    "\n",
    "\n",
    "            intersection = np.sum(numpy.logical_and(stencil1, stencil2))\n",
    "        \n",
    "            if intersection > 0:\n",
    "                xmin = min(boxes[i][0][0],boxes[j][0][0])\n",
    "                ymin = min(boxes[i][0][1],boxes[j][0][1])\n",
    "                xmax = max(boxes[i][2][0],boxes[j][2][0])\n",
    "                ymax = max(boxes[i][2][1],boxes[j][2][1])\n",
    "\n",
    "                '''\n",
    "                coors = [[xmin, ymin],[xmax,ymin], [xmax, ymax],[xmin,ymax]]\n",
    "                '''\n",
    "                print(\" {},{} INTERSECTION : {}\".format(i,j,np.sum(intersection)))\n",
    "\n",
    "                results_rois[i] = [ymin,xmin,ymax,xmax]\n",
    "                arr = np.delete(results_rois,j,0)\n",
    "                \n",
    "                return merge_boxes(arr,results_masks)\n",
    "\n",
    "    return results_rois\n"
   ]
  },
  {
   "cell_type": "code",
   "execution_count": null,
   "id": "7c6ff32d",
   "metadata": {},
   "outputs": [],
   "source": []
  }
 ],
 "metadata": {
  "kernelspec": {
   "display_name": "Python 3",
   "language": "python",
   "name": "python3"
  },
  "language_info": {
   "codemirror_mode": {
    "name": "ipython",
    "version": 3
   },
   "file_extension": ".py",
   "mimetype": "text/x-python",
   "name": "python",
   "nbconvert_exporter": "python",
   "pygments_lexer": "ipython3",
   "version": "3.8.5"
  }
 },
 "nbformat": 4,
 "nbformat_minor": 5
}
